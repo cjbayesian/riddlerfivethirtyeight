{
 "cells": [
  {
   "cell_type": "markdown",
   "metadata": {},
   "source": [
    "#### Can You Save The Drowning Swimmer?\n",
    "\n",
    "Solution to https://fivethirtyeight.com/features/can-you-save-the-drowning-swimmer/\n",
    "\n",
    "To determine the total time it will take, we're going to need some simple geometry and _either_ some calculus, or a little brute force computation.\n",
    "\n",
    "![Pythagorean](https://upload.wikimedia.org/wikipedia/commons/thumb/d/d2/Pythagorean.svg/260px-Pythagorean.svg.png)\n",
    "\n",
    "The total distance traveled by the lifesaver will be the distance ran along shore ($d_r$) (between 0 and 100 metres) plus the distance swam ($d_s$). The latter will be the hypotenuse of the triangle with sides $100-d_r$ and $100$, or:\n",
    "\n",
    "$$d_s = \\sqrt{(100-d_r)^2 + 100^2} $$\n",
    "\n",
    "The total time will be the sum of the two distance components $d_r$ and $d_s$ divided by the speed with which the lifesaver can cover each land ($v_r$) and water ($v_s$), respectively. These are given as:\n",
    "\n",
    "$$v_r = \\frac{100m}{15sec}$$\n",
    ".\n",
    "$$v_s = \\frac{100m}{17sec}$$\n",
    "\n",
    "Putting it together, we have the total time $t$ as:\n",
    "\n",
    "$$t = \\frac{\\sqrt{(100-d_r)^2 + 100^2}}{v_s} + \\frac{d_r}{v_r} $$\n",
    "\n",
    "First, we'll take a numerical approach to finding the running distance which minimizes the total time. "
   ]
  },
  {
   "cell_type": "code",
   "execution_count": 1,
   "metadata": {
    "collapsed": false
   },
   "outputs": [
    {
     "name": "stdout",
     "output_type": "stream",
     "text": [
      "Populating the interactive namespace from numpy and matplotlib\n"
     ]
    },
    {
     "data": {
      "image/png": "[encoded data removed]",
      "text/plain": [
       "<matplotlib.figure.Figure at 0x10a3597d0>"
      ]
     },
     "metadata": {},
     "output_type": "display_data"
    }
   ],
   "source": [
    "%pylab inline\n",
    "\n",
    "def duration(d_r,v_r=100/15.0,v_s=100/75.0):\n",
    "    return np.sqrt(np.power((100-d_r),2) + 10000)/v_s + d_r/v_r\n",
    "\n",
    "Rs = np.linspace(0,100,10000)\n",
    "Ds = duration(Rs)\n",
    "fig, ax = plt.subplots(1,1)\n",
    "ax.plot(Rs,Ds)\n",
    "ax.set_xlabel('Distance running along shore\\nbefore diving in (metres)')\n",
    "ax.set_ylabel('Total Time\\n(seconds)')\n",
    "plt.show()"
   ]
  },
  {
   "cell_type": "markdown",
   "metadata": {},
   "source": [
    "We can see that the fastest time when the lifesaver runs ~80 metres before diving into the water. Doing so, it will take take ~88 seconds."
   ]
  },
  {
   "cell_type": "code",
   "execution_count": 2,
   "metadata": {
    "collapsed": false
   },
   "outputs": [
    {
     "name": "stdout",
     "output_type": "stream",
     "text": [
      "Best distance running: 79.5879587959\n",
      "Best time: 88.484692284\n"
     ]
    }
   ],
   "source": [
    "best_d_r = Rs[np.argmin(Ds)]\n",
    "print \"Best distance running:\",best_d_r\n",
    "print \"Best time:\", duration(best_d_r)"
   ]
  },
  {
   "cell_type": "markdown",
   "metadata": {},
   "source": [
    "With the above numerical approach, we can get an arbitrarily precise approximation of the solution. However, with a little calculus, we can get an exact answer.\n",
    "\n",
    "The minimum of the duration function can be found exactly by taking the derivative and setting it equal to zero.\n",
    "\n",
    "$$\\delta/\\delta d_r \\left[\\frac{\\sqrt{(100-d_r)^2 + 100^2}}{v_s} + \\frac{d_r}{v_r} \\right] = 0$$\n",
    ".\n",
    "$$\\frac {1}{v_r} - \\frac{100-d_r}{s \\sqrt{(100-d_r)^2 + 100^2} } = 0$$\n",
    "\n",
    "Solving for $d_r$:\n",
    "\n",
    "$$d_r = 100 - 100 \\sqrt{\\frac{v_s^2}{v_r^2 - v_s^2}}$$"
   ]
  },
  {
   "cell_type": "code",
   "execution_count": 3,
   "metadata": {
    "collapsed": false
   },
   "outputs": [
    {
     "name": "stdout",
     "output_type": "stream",
     "text": [
      "Best distance running: 79.5875854768\n",
      "Best time: 88.4846922835\n"
     ]
    }
   ],
   "source": [
    "v_r=100/15.0\n",
    "v_s=100/75.0\n",
    "\n",
    "d_r = 100 - 100 * np.sqrt(v_s**2/(v_r**2 - v_s**2))\n",
    "\n",
    "print \"Best distance running:\",d_r\n",
    "print \"Best time:\", duration(d_r)"
   ]
  },
  {
   "cell_type": "code",
   "execution_count": null,
   "metadata": {
    "collapsed": true
   },
   "outputs": [],
   "source": []
  }
 ],
 "metadata": {
  "anaconda-cloud": {},
  "kernelspec": {
   "display_name": "Python [conda env:ps_pipeline]",
   "language": "python",
   "name": "conda-env-ps_pipeline-py"
  },
  "language_info": {
   "codemirror_mode": {
    "name": "ipython",
    "version": 2
   },
   "file_extension": ".py",
   "mimetype": "text/x-python",
   "name": "python",
   "nbconvert_exporter": "python",
   "pygments_lexer": "ipython2",
   "version": "2.7.10"
  }
 },
 "nbformat": 4,
 "nbformat_minor": 1
}
