{
 "cells": [
  {
   "cell_type": "markdown",
   "metadata": {},
   "source": [
    "####  Domestic boundaries\n",
    "\n",
    "Solution to riddler classic https://fivethirtyeight.com/features/can-you-find-the-honest-prince/\n",
    "\n",
    "\n",
    ">From Stephen Carrier, a puzzle about domestic boundaries:\n",
    "\n",
    ">Consider four square-shaped ranches, arranged in a two-by-two pattern, as if part of a larger checkerboard. One family lives on each ranch, and each family builds a small house independently at a random place within the property. Later, as the families in adjacent quadrants become acquainted, they construct straight-line paths between the houses that go across the boundaries between the ranches, four in total. These paths form a quadrilateral circuit path connecting all four houses. This circuit path is also the boundary of the area where the families’ children are allowed to roam.\n",
    "\n",
    ">What is the probability that the children are able to travel in a straight line from any allowed place to any other allowed place without leaving the boundaries? (In other words, what is the probability that the quadrilateral is convex?)"
   ]
  },
  {
   "cell_type": "code",
   "execution_count": 1,
   "metadata": {
    "collapsed": false
   },
   "outputs": [
    {
     "name": "stdout",
     "output_type": "stream",
     "text": [
      "Populating the interactive namespace from numpy and matplotlib\n"
     ]
    }
   ],
   "source": [
    "%pylab inline"
   ]
  },
  {
   "cell_type": "code",
   "execution_count": 50,
   "metadata": {
    "collapsed": true
   },
   "outputs": [],
   "source": [
    "from scipy.spatial import ConvexHull"
   ]
  },
  {
   "cell_type": "code",
   "execution_count": 98,
   "metadata": {
    "collapsed": false
   },
   "outputs": [
    {
     "name": "stdout",
     "output_type": "stream",
     "text": [
      "3\n"
     ]
    },
    {
     "data": {
      "image/png": "[encoded data removed]",
      "text/plain": [
       "<matplotlib.figure.Figure at 0x10d5d55d0>"
      ]
     },
     "metadata": {},
     "output_type": "display_data"
    }
   ],
   "source": [
    "hx1 = np.random.uniform(-1,0)\n",
    "hy1 = np.random.uniform(0,1)\n",
    "hx2 = np.random.uniform(0,1)\n",
    "hy2 = np.random.uniform(0,1)\n",
    "hx3 = np.random.uniform(0,1)\n",
    "hy3 = np.random.uniform(-1,0)\n",
    "hx4 = np.random.uniform(-1,0)\n",
    "hy4 = np.random.uniform(-1,0)\n",
    "\n",
    "fig, ax = plt.subplots(1,1)\n",
    "\n",
    "ax.plot([hx1,hx2],[hy1,hy2])\n",
    "ax.plot([hx2,hx3],[hy2,hy3])\n",
    "ax.plot([hx3,hx4],[hy3,hy4])\n",
    "ax.plot([hx4,hx1],[hy4,hy1])\n",
    "\n",
    "ax.axvline(0,ls='--',c='grey',alpha=0.5)\n",
    "ax.axhline(0,ls='--',c='grey',alpha=0.5)\n",
    "ax.set_xlim(-1,1)\n",
    "ax.set_ylim(-1,1)\n",
    "\n",
    "points = np.array([[hx1,hy1],[hx2,hy2],[hx3,hy3],[hx4,hy4]])\n",
    "hull = ConvexHull(points)\n",
    "print hull.vertices.shape[0]\n",
    "plt.show()"
   ]
  },
  {
   "cell_type": "markdown",
   "metadata": {},
   "source": [
    "## Approximate solution via simulation"
   ]
  },
  {
   "cell_type": "code",
   "execution_count": 104,
   "metadata": {
    "collapsed": false
   },
   "outputs": [
    {
     "name": "stdout",
     "output_type": "stream",
     "text": [
      "90.978\n"
     ]
    }
   ],
   "source": [
    "n_reps = 100000\n",
    "counter = 0.0\n",
    "for i in range(n_reps):\n",
    "    hx1 = np.random.uniform(-1,0)\n",
    "    hy1 = np.random.uniform(0,1)\n",
    "    hx2 = np.random.uniform(0,1)\n",
    "    hy2 = np.random.uniform(0,1)\n",
    "    hx3 = np.random.uniform(0,1)\n",
    "    hy3 = np.random.uniform(-1,0)\n",
    "    hx4 = np.random.uniform(-1,0)\n",
    "    hy4 = np.random.uniform(-1,0)\n",
    "\n",
    "    points = np.array([[hx1,hy1],[hx2,hy2],[hx3,hy3],[hx4,hy4]])\n",
    "    hull = ConvexHull(points)\n",
    "    # If there are 4 points on the hull,\n",
    "    # then the quadrilateral is convex\n",
    "    if hull.vertices.shape[0] == 4:\n",
    "        counter +=1\n",
    "print counter/n_reps * 100"
   ]
  },
  {
   "cell_type": "code",
   "execution_count": null,
   "metadata": {
    "collapsed": true
   },
   "outputs": [],
   "source": []
  }
 ],
 "metadata": {
  "kernelspec": {
   "display_name": "Python [conda env:ps_pipeline]",
   "language": "python",
   "name": "conda-env-ps_pipeline-py"
  },
  "language_info": {
   "codemirror_mode": {
    "name": "ipython",
    "version": 2
   },
   "file_extension": ".py",
   "mimetype": "text/x-python",
   "name": "python",
   "nbconvert_exporter": "python",
   "pygments_lexer": "ipython2",
   "version": "2.7.10"
  }
 },
 "nbformat": 4,
 "nbformat_minor": 2
}
